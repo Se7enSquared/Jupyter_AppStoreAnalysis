{
 "cells": [
  {
   "cell_type": "markdown",
   "metadata": {
    "collapsed": true
   },
   "source": [
    "# Application Insights\n",
    "*Data analysis project by Heather Gray*\n",
    "______________________________________________________________________________________________________\n",
    "\n",
    "This project explores free applications on the google and apple stores to determine what type of apps attract the most users so that we can decide which app genre could the most profitable for our company. "
   ]
  },
  {
   "cell_type": "markdown",
   "metadata": {},
   "source": [
    "## Exploring the data\n",
    "\n",
    "The following function was created to make exploring the app store data more easily.\n",
    "\n",
    "It takes in 4 parameters: \n",
    "\n",
    "   * dataset - a list of lists of the data set to explore\n",
    "   * start & end - int representing the start and end indices of a slice\n",
    "   * rows_and_columns - Boolean if True, prints number of rows and columns\n",
    "\n",
    "caveats:\n",
    "   * the data set should not include header rows\n"
   ]
  },
  {
   "cell_type": "code",
   "execution_count": 1,
   "metadata": {
    "collapsed": true
   },
   "outputs": [],
   "source": [
    "def explore_data(dataset, start, end, rows_and_columns=False):\n",
    "    dataset_slice = dataset[start:end]    \n",
    "    for row in dataset_slice:\n",
    "        print(row)\n",
    "        print() # adds a new (empty) line after each row\n",
    "\n",
    "    if rows_and_columns:\n",
    "        print('Number of rows:', len(dataset))\n",
    "        print('Number of columns:', len(dataset[0]))\n",
    "    \n",
    "    print() # empty line at end of output"
   ]
  },
  {
   "cell_type": "code",
   "execution_count": 2,
   "metadata": {
    "collapsed": false
   },
   "outputs": [],
   "source": [
    "from csv import reader\n",
    "\n",
    "ios_file = open('AppleStore.csv', encoding='utf8')\n",
    "android_file = open('googleplaystore.csv', encoding='utf8')\n",
    "\n",
    "ios = list(reader(ios_file))\n",
    "android = list(reader(android_file))"
   ]
  },
  {
   "cell_type": "markdown",
   "metadata": {},
   "source": [
    "### Explore ios & android first few rows\n",
    "\n",
    "Using the explore_data() function, print the first 3 rows of the two data sets"
   ]
  },
  {
   "cell_type": "code",
   "execution_count": 3,
   "metadata": {
    "collapsed": false
   },
   "outputs": [
    {
     "name": "stdout",
     "output_type": "stream",
     "text": [
      "=== IOS ===\n",
      "['284882215', 'Facebook', '389879808', 'USD', '0.0', '2974676', '212', '3.5', '3.5', '95.0', '4+', 'Social Networking', '37', '1', '29', '1']\n",
      "\n",
      "['389801252', 'Instagram', '113954816', 'USD', '0.0', '2161558', '1289', '4.5', '4.0', '10.23', '12+', 'Photo & Video', '37', '0', '29', '1']\n",
      "\n",
      "\n",
      "=== ANDROID ===\n",
      "['Photo Editor & Candy Camera & Grid & ScrapBook', 'ART_AND_DESIGN', '4.1', '159', '19M', '10,000+', 'Free', '0', 'Everyone', 'Art & Design', 'January 7, 2018', '1.0.0', '4.0.3 and up']\n",
      "\n",
      "['Coloring book moana', 'ART_AND_DESIGN', '3.9', '967', '14M', '500,000+', 'Free', '0', 'Everyone', 'Art & Design;Pretend Play', 'January 15, 2018', '2.0.0', '4.0.3 and up']\n",
      "\n",
      "\n"
     ]
    }
   ],
   "source": [
    "print('='*3, 'IOS', '='*3)\n",
    "explore_data(ios, 1, 3)\n",
    "print('='*3, 'ANDROID', '='*3)\n",
    "explore_data(android, 1, 3)"
   ]
  },
  {
   "cell_type": "markdown",
   "metadata": {
    "collapsed": true
   },
   "source": [
    "### Data set column headers\n",
    "\n",
    "A function is defined which will give us a list of headers in any data set:\n"
   ]
  },
  {
   "cell_type": "code",
   "execution_count": 4,
   "metadata": {
    "collapsed": false
   },
   "outputs": [],
   "source": [
    "def get_headers(file):\n",
    "    headers = [x for x in file[0]]\n",
    "    return headers\n",
    "\n",
    "def print_formatted_headers(store_name, headers):\n",
    "    print('='*3, store_name.upper(), '='*3)\n",
    "    for header in enumerate(headers):\n",
    "            print(header[0], ':', header[1])\n",
    "    print('\\n')"
   ]
  },
  {
   "cell_type": "markdown",
   "metadata": {},
   "source": [
    "#### Display list of column headers in each data set"
   ]
  },
  {
   "cell_type": "code",
   "execution_count": 5,
   "metadata": {
    "collapsed": false
   },
   "outputs": [
    {
     "name": "stdout",
     "output_type": "stream",
     "text": [
      "=== IOS ===\n",
      "0 : id\n",
      "1 : track_name\n",
      "2 : size_bytes\n",
      "3 : currency\n",
      "4 : price\n",
      "5 : rating_count_tot\n",
      "6 : rating_count_ver\n",
      "7 : user_rating\n",
      "8 : user_rating_ver\n",
      "9 : ver\n",
      "10 : cont_rating\n",
      "11 : prime_genre\n",
      "12 : sup_devices.num\n",
      "13 : ipadSc_urls.num\n",
      "14 : lang.num\n",
      "15 : vpp_lic\n",
      "\n",
      "\n",
      "=== ANDROID ===\n",
      "0 : App\n",
      "1 : Category\n",
      "2 : Rating\n",
      "3 : Reviews\n",
      "4 : Size\n",
      "5 : Installs\n",
      "6 : Type\n",
      "7 : Price\n",
      "8 : Content Rating\n",
      "9 : Genres\n",
      "10 : Last Updated\n",
      "11 : Current Ver\n",
      "12 : Android Ver\n",
      "\n",
      "\n"
     ]
    }
   ],
   "source": [
    "ios_headers = get_headers(ios)\n",
    "android_headers = get_headers(android)\n",
    "\n",
    "print_formatted_headers('ios', ios_headers)\n",
    "print_formatted_headers('android', android_headers)"
   ]
  },
  {
   "cell_type": "markdown",
   "metadata": {},
   "source": [
    "## Data Cleansing\n",
    "\n",
    "Our data set should exclude non-free apps and apps with foreign characters since we are only concerned with free apps in English"
   ]
  },
  {
   "cell_type": "markdown",
   "metadata": {},
   "source": [
    "### Erroneous rows\n",
    "\n",
    "The discussion forum for the Google Play data set reveals a row with a missing category. We could replace the category to keep this item, but a single row is not that important and we have more apps in the Google data set than ios anyway. So we will delete the row to fix this error"
   ]
  },
  {
   "cell_type": "code",
   "execution_count": 6,
   "metadata": {
    "collapsed": false
   },
   "outputs": [
    {
     "name": "stdout",
     "output_type": "stream",
     "text": [
      "['Life Made WI-Fi Touchscreen Photo Frame', '1.9', '19', '3.0M', '1,000+', 'Free', '0', 'Everyone', '', 'February 11, 2018', '1.0.19', '4.0 and up']\n"
     ]
    }
   ],
   "source": [
    "print(android[10473])"
   ]
  },
  {
   "cell_type": "code",
   "execution_count": 7,
   "metadata": {
    "collapsed": false
   },
   "outputs": [
    {
     "name": "stdout",
     "output_type": "stream",
     "text": [
      "['osmino Wi-Fi: free WiFi', 'TOOLS', '4.2', '134203', '4.1M', '10,000,000+', 'Free', '0', 'Everyone', 'Tools', 'August 7, 2018', '6.06.14', '4.4 and up']\n"
     ]
    }
   ],
   "source": [
    "del(android[10473])\n",
    "print(android[10473])"
   ]
  },
  {
   "cell_type": "markdown",
   "metadata": {},
   "source": [
    "### Duplicate apps\n",
    "\n",
    "According to the discussion boards for the data sets, there are numerous duplicate rows (for example, there are 4 entries for Instagram in the Android set). For items where the duplicate info varies, we should try to keep the rows with the latest data. The number of reviews is a decent way to determine this. It follows that the higher the number of reviews, the more recent the data row."
   ]
  },
  {
   "cell_type": "markdown",
   "metadata": {},
   "source": [
    "#### Determine count of duplicate rows in each data set\n",
    "\n",
    "To get the count of duplicates, we will iterate over each data set. Unique applications will be appended to a list and the list will be checked before adding another. If the application is already in the list, we will append it to a list of duplicate entries instead. The function 'find_duplicates' will accomplish this."
   ]
  },
  {
   "cell_type": "code",
   "execution_count": 8,
   "metadata": {
    "collapsed": false
   },
   "outputs": [],
   "source": [
    "def find_duplicates(name_col_index, dataset):\n",
    "    duplicates = []\n",
    "    unique = []\n",
    "    \n",
    "    for app in dataset:\n",
    "        name = app[name_col_index]\n",
    "        if name in unique:\n",
    "            duplicates.append(name)\n",
    "        else:\n",
    "            unique.append(name)\n",
    "    return(duplicates)\n"
   ]
  },
  {
   "cell_type": "code",
   "execution_count": 9,
   "metadata": {
    "collapsed": false
   },
   "outputs": [
    {
     "name": "stdout",
     "output_type": "stream",
     "text": [
      "ANDROID:  1181\n",
      "IOS: \t  2\n"
     ]
    }
   ],
   "source": [
    "and_name_col_num = 0\n",
    "ios_name_col_num = 1\n",
    "\n",
    "print('ANDROID: ', len(find_duplicates(and_name_col_num, android)))\n",
    "print('IOS: \\t ', len(find_duplicates(ios_name_col_num, ios)))"
   ]
  },
  {
   "cell_type": "markdown",
   "metadata": {},
   "source": [
    "#### Sample of duplicate entries for each dataset\n",
    "\n",
    "iOS data set is pretty clean. There are only 2 duplicates. Android has many more, so we only print a sample of the first 15 duplicates."
   ]
  },
  {
   "cell_type": "code",
   "execution_count": 10,
   "metadata": {
    "collapsed": false
   },
   "outputs": [
    {
     "name": "stdout",
     "output_type": "stream",
     "text": [
      "=== ANDROID ===\n",
      "['Quick PDF Scanner + OCR FREE', 'Box', 'Google My Business', 'ZOOM Cloud Meetings', 'join.me - Simple Meetings', 'Box', 'Zenefits', 'Google Ads', 'Google My Business', 'Slack', 'FreshBooks Classic', 'Insightly CRM', 'QuickBooks Accounting: Invoicing & Expenses', 'HipChat - Chat Built for Teams', 'Xero Accounting Software']\n",
      "\n",
      "\n",
      "=== IOS ===\n",
      "['Mannequin Challenge', 'VR Roller Coaster']\n"
     ]
    }
   ],
   "source": [
    "print('='*3, 'ANDROID', '='*3)\n",
    "print(find_duplicates(0, android)[:15])\n",
    "print('\\n')\n",
    "print('='*3, 'IOS', '='*3)\n",
    "print(find_duplicates(1, ios))"
   ]
  },
  {
   "cell_type": "markdown",
   "metadata": {},
   "source": [
    "#### Expected Length\n",
    "Display the expected length of each data set after removing duplicates for accuracy comparison"
   ]
  },
  {
   "cell_type": "code",
   "execution_count": 11,
   "metadata": {
    "collapsed": false
   },
   "outputs": [
    {
     "name": "stdout",
     "output_type": "stream",
     "text": [
      "Android expected length:  9660\n",
      "iOS expected length: \t  7196\n"
     ]
    }
   ],
   "source": [
    "print('Android expected length: ', len(android) - 1181)\n",
    "print('iOS expected length: \\t ', len(ios) - 2)"
   ]
  },
  {
   "cell_type": "markdown",
   "metadata": {},
   "source": [
    "#### Find apps with most reviews\n",
    "\n",
    "In the data set, we need to identify the most recent entry for any duplicate. The best way to do that is to go by the review count. The row with the highest count is considered to be the most recent and will be kept.\n",
    "\n",
    "In order to do this, we will create a dictionary to hold each unique app along with its highest review count"
   ]
  },
  {
   "cell_type": "code",
   "execution_count": 12,
   "metadata": {
    "collapsed": false
   },
   "outputs": [],
   "source": [
    "def create_review_count_dictionary(name_column_num, review_column_num, dataset):\n",
    "    review_count_dict = {}\n",
    "\n",
    "    for app in dataset[1:]:\n",
    "        app_name = app[name_column_num]\n",
    "        if app_name not in review_count_dict:\n",
    "            review_count_dict[app_name] = float(app[review_column_num])\n",
    "        else:\n",
    "            if float(review_count_dict[app_name]) < float(app[review_column_num]):\n",
    "                review_count_dict[app_name] = float(app[review_column_num])\n",
    "    return review_count_dict"
   ]
  },
  {
   "cell_type": "markdown",
   "metadata": {},
   "source": [
    "We now validate the length of the dictionary, which should match our expected length above (9659 records)."
   ]
  },
  {
   "cell_type": "code",
   "execution_count": 13,
   "metadata": {
    "collapsed": false
   },
   "outputs": [
    {
     "name": "stdout",
     "output_type": "stream",
     "text": [
      "Length of dict for Android:  9659\n",
      "Length of dict for iOS:  7195\n"
     ]
    }
   ],
   "source": [
    "and_review_count_col_num = 3\n",
    "ios_review_count_col_num = 5\n",
    "\n",
    "print('Length of dict for Android: ', \n",
    "      len(create_review_count_dictionary(and_name_col_num, and_review_count_col_num, android)))\n",
    "print('Length of dict for iOS: ', \n",
    "      len(create_review_count_dictionary(ios_name_col_num, ios_review_count_col_num, ios)))"
   ]
  },
  {
   "cell_type": "markdown",
   "metadata": {},
   "source": [
    "#### Remove duplicate entries\n",
    "\n",
    "The next function will utilize the dictionary above to create a new clean data set with no duplicate records"
   ]
  },
  {
   "cell_type": "code",
   "execution_count": 14,
   "metadata": {
    "collapsed": true
   },
   "outputs": [],
   "source": [
    "def remove_duplicate_entries(name_column_num, review_column_num, dataset):\n",
    "    android_clean = []\n",
    "    already_added = []\n",
    "\n",
    "    reviews_max = create_review_count_dictionary(name_column_num, review_column_num, dataset)\n",
    "\n",
    "    for app in dataset[1:]:\n",
    "        name = app[name_column_num]\n",
    "        n_reviews = float(app[review_column_num])\n",
    "\n",
    "        if (reviews_max[name] == n_reviews) and (name not in already_added):\n",
    "            android_clean.append(app)\n",
    "            already_added.append(name)\n",
    "            \n",
    "    return android_clean"
   ]
  },
  {
   "cell_type": "code",
   "execution_count": 15,
   "metadata": {
    "collapsed": false
   },
   "outputs": [],
   "source": [
    "android = remove_duplicate_entries(and_name_col_num, and_review_count_col_num, android)\n",
    "ios = remove_duplicate_entries(ios_name_col_num, ios_review_count_col_num, ios)"
   ]
  },
  {
   "cell_type": "markdown",
   "metadata": {},
   "source": [
    "Let's test the length of the clean data set"
   ]
  },
  {
   "cell_type": "code",
   "execution_count": 16,
   "metadata": {
    "collapsed": false
   },
   "outputs": [
    {
     "name": "stdout",
     "output_type": "stream",
     "text": [
      "Length of new data set:  9659\n",
      "Length of new data set:  7195\n"
     ]
    }
   ],
   "source": [
    "print('Length of new data set: ', len(android))\n",
    "print('Length of new data set: ', len(ios))"
   ]
  },
  {
   "cell_type": "markdown",
   "metadata": {},
   "source": [
    "### Check for English characters\n",
    "\n",
    "Because our app is not yet translated into other languages, we will filter any apps with non-English characters, assuming they would not be competing with our brand.\n",
    "\n",
    "We define a function is_english() which will return False if the string has non-English characters. The function uses a regular expression and tests each character in a given string."
   ]
  },
  {
   "cell_type": "code",
   "execution_count": 17,
   "metadata": {
    "collapsed": false
   },
   "outputs": [],
   "source": [
    "def is_english(s):\n",
    "    count = 0\n",
    "    for character in s:\n",
    "        if ord(character) > 127:\n",
    "            count += 1\n",
    "    return count <= 2"
   ]
  },
  {
   "cell_type": "markdown",
   "metadata": {},
   "source": [
    "Test if is_english() works:"
   ]
  },
  {
   "cell_type": "code",
   "execution_count": 18,
   "metadata": {
    "collapsed": false
   },
   "outputs": [
    {
     "name": "stdout",
     "output_type": "stream",
     "text": [
      "英漢字典 is English?\t\t False\n",
      "é spéciaux français is English?\t False\n",
      "English 123 is English?\t\t True\n",
      "Test. puncuation?!, is English?\t True\n",
      "Instachat 😜 is English?\t True\n"
     ]
    }
   ],
   "source": [
    "print('英漢字典 is English?\\t\\t', is_english('英漢字典'))\n",
    "print('é spéciaux français is English?\\t', is_english('é spéciaux français'))\n",
    "print('English 123 is English?\\t\\t', is_english('English 123'))\n",
    "print('Test. puncuation?!, is English?\\t', is_english('Test. punctuation?!,'))\n",
    "print('Instachat 😜 is English?\\t', is_english('Instachat 😜'))"
   ]
  },
  {
   "cell_type": "markdown",
   "metadata": {},
   "source": [
    "Unfortunately, we will be also filtering applications that have more than 2 foreign characters in the title. It is assumed this will be very rare, so we will leave the function as is.\n",
    "\n",
    "#### Removing the non-English apps\n",
    "is_english() appears to work so now we will run every app name through the function and create a new dataset excluding non-english applications."
   ]
  },
  {
   "cell_type": "code",
   "execution_count": 19,
   "metadata": {
    "collapsed": false
   },
   "outputs": [],
   "source": [
    "def clean_non_english(name_column_num, dataset):\n",
    "    english_only = []\n",
    "    non_english = []\n",
    "    for app in dataset[1:]:\n",
    "        if is_english(app[name_column_num]):\n",
    "            english_only.append(app)\n",
    "        else:\n",
    "            non_english.append(app)\n",
    "    return (english_only, non_english)"
   ]
  },
  {
   "cell_type": "markdown",
   "metadata": {},
   "source": [
    "Let's test a few of the non-english apps to make sure the function worked as expected\n",
    "\n",
    "*WARNING*: Running the next cell repeatedly will produce an error. If you wish to re-run this cell, you must restart & run all"
   ]
  },
  {
   "cell_type": "code",
   "execution_count": 20,
   "metadata": {
    "collapsed": false
   },
   "outputs": [
    {
     "name": "stdout",
     "output_type": "stream",
     "text": [
      "聚力视频HD-人民的名义,跨界歌王全网热播\n"
     ]
    }
   ],
   "source": [
    "non_english_sample = clean_non_english(ios_name_col_num, ios)[1][1][1]\n",
    "\n",
    "print(non_english_sample)"
   ]
  },
  {
   "cell_type": "code",
   "execution_count": 21,
   "metadata": {
    "collapsed": false
   },
   "outputs": [
    {
     "name": "stdout",
     "output_type": "stream",
     "text": [
      "iOS: \t  6152\n",
      "Android:  9596\n"
     ]
    }
   ],
   "source": [
    "ios = clean_non_english(ios_name_col_num, ios)[0]\n",
    "android = clean_non_english(and_name_col_num, android)[0]\n",
    "\n",
    "print('iOS: \\t ', len(ios))\n",
    "print('Android: ', len(android))\n"
   ]
  },
  {
   "cell_type": "markdown",
   "metadata": {},
   "source": [
    "### Isolate free apps\n",
    "\n",
    "Because our application is free, we only want to compare to other free applications.\n",
    "\n",
    "The isolate_free_apps function iterates through the given dataset. iOS and Android datasets differ in how they format the price, so there is a check for which data set is used. "
   ]
  },
  {
   "cell_type": "code",
   "execution_count": 22,
   "metadata": {
    "collapsed": false
   },
   "outputs": [],
   "source": [
    "def isolate_free_apps(price_column_num, dataset):\n",
    "    free_apps = []\n",
    "    for i in range(len(dataset[1:])):\n",
    "        price = dataset[1:][i][price_column_num]\n",
    "        if dataset is ios:\n",
    "            if price == '0.0':\n",
    "                free_apps.append(dataset[1:][i])\n",
    "        else:\n",
    "            if price == '0':\n",
    "                free_apps.append(dataset[1:][i])\n",
    "\n",
    "    return free_apps\n",
    "    "
   ]
  },
  {
   "cell_type": "code",
   "execution_count": 23,
   "metadata": {
    "collapsed": false
   },
   "outputs": [
    {
     "name": "stdout",
     "output_type": "stream",
     "text": [
      "iOS: \t 3199\n",
      "Android:  8846\n"
     ]
    }
   ],
   "source": [
    "ios_price_col_num = 4\n",
    "and_price_col_num = 7\n",
    "\n",
    "free_ios = isolate_free_apps(ios_price_col_num, ios)\n",
    "free_android = isolate_free_apps(and_price_col_num, android)\n",
    "\n",
    "print('iOS: \\t', len(free_ios))\n",
    "print('Android: ', len(free_android))\n"
   ]
  },
  {
   "cell_type": "markdown",
   "metadata": {},
   "source": [
    "There are nearly 3x as many free Android apps as free iOS apps. Out of pure curiousity, we will discover what percentage of Android apps are free vs. percentage of free iOS apps in our dataset:"
   ]
  },
  {
   "cell_type": "code",
   "execution_count": 24,
   "metadata": {
    "collapsed": false
   },
   "outputs": [
    {
     "name": "stdout",
     "output_type": "stream",
     "text": [
      "Free iOS: \t 52 %\n",
      "Free Android: \t 92 %\n"
     ]
    }
   ],
   "source": [
    "print('Free iOS: \\t', round(len(free_ios) / len(ios) * 100), '%')\n",
    "print('Free Android: \\t', round(len(free_android) / len(android) * 100), '%')"
   ]
  },
  {
   "cell_type": "markdown",
   "metadata": {},
   "source": [
    "Now that we satisfied our curiousity about the number of free apps vs non-free, we can go ahead and overwrite our ios and android variables with our free app dataset"
   ]
  },
  {
   "cell_type": "code",
   "execution_count": 25,
   "metadata": {
    "collapsed": true
   },
   "outputs": [],
   "source": [
    "ios = isolate_free_apps(ios_price_col_num, ios)\n",
    "android = isolate_free_apps(and_price_col_num, android)"
   ]
  },
  {
   "cell_type": "markdown",
   "metadata": {},
   "source": [
    "## App Profile\n",
    "\n",
    "The goal of our company is to release an app first on Android (due to the prevalance of Android phones) and if it does well, later release it on iOS. But what genres are most ubiquitous to each platform? And how do these genres perform? To find out, we will create app profiles.\n",
    "\n",
    "### Getting a count of categories\n",
    "\n",
    "The following function uses the handy Counter() object from the collections class. The Counter object creates a dictionary of values and their counts. Read more about Counter [here](https://docs.python.org/2/library/collections.html#collections.Counter)"
   ]
  },
  {
   "cell_type": "code",
   "execution_count": 26,
   "metadata": {
    "collapsed": false
   },
   "outputs": [],
   "source": [
    "and_category_col_num = 1\n",
    "ios_category_col_num = 11\n",
    "\n",
    "from collections import Counter\n",
    "\n",
    "def top_10_category(category_column_num, dataset):\n",
    "    return Counter([category[category_column_num] for category in dataset[1:]]).most_common(10)"
   ]
  },
  {
   "cell_type": "code",
   "execution_count": 27,
   "metadata": {
    "collapsed": false
   },
   "outputs": [],
   "source": [
    "top_10_ios = top_10_category(ios_category_col_num, ios)\n",
    "top_10_android = top_10_category(and_category_col_num, android)"
   ]
  },
  {
   "cell_type": "code",
   "execution_count": 28,
   "metadata": {
    "collapsed": false
   },
   "outputs": [],
   "source": [
    "def print_categories(store_name, top_10):\n",
    "    print('='*3, store_name.upper(), '='*3)\n",
    "    for category in enumerate(top_10):\n",
    "            print(category[0] + 1, ':', category[1])\n",
    "    print()"
   ]
  },
  {
   "cell_type": "markdown",
   "metadata": {},
   "source": [
    "#### Top 10 categories by number of apps\n",
    "The top 10 categories for iOS and Android are below"
   ]
  },
  {
   "cell_type": "code",
   "execution_count": 29,
   "metadata": {
    "collapsed": false
   },
   "outputs": [
    {
     "name": "stdout",
     "output_type": "stream",
     "text": [
      "=== IOS ===\n",
      "1 : ('Games', 1863)\n",
      "2 : ('Entertainment', 251)\n",
      "3 : ('Photo & Video', 159)\n",
      "4 : ('Education', 118)\n",
      "5 : ('Social Networking', 105)\n",
      "6 : ('Shopping', 83)\n",
      "7 : ('Utilities', 79)\n",
      "8 : ('Sports', 69)\n",
      "9 : ('Music', 66)\n",
      "10 : ('Health & Fitness', 65)\n",
      "\n",
      "=== ANDROID ===\n",
      "1 : ('FAMILY', 1676)\n",
      "2 : ('GAME', 858)\n",
      "3 : ('TOOLS', 748)\n",
      "4 : ('BUSINESS', 407)\n",
      "5 : ('PRODUCTIVITY', 345)\n",
      "6 : ('LIFESTYLE', 344)\n",
      "7 : ('FINANCE', 328)\n",
      "8 : ('MEDICAL', 313)\n",
      "9 : ('SPORTS', 300)\n",
      "10 : ('PERSONALIZATION', 294)\n",
      "\n"
     ]
    }
   ],
   "source": [
    "print_categories('iOS', top_10_ios)\n",
    "print_categories('Android', top_10_android)"
   ]
  },
  {
   "cell_type": "markdown",
   "metadata": {},
   "source": [
    "#### App profile by install base\n",
    "\n",
    "The android data set has an 'installs' column but the iOS dataset doesn't. So we will need to use the count of reviews as a metric to determine the install base of an app by category.\n",
    "\n",
    "In order to do this, we will need a list of the unique categories in each dataset. Getting a \"set\" of category names is probably the way to go."
   ]
  },
  {
   "cell_type": "code",
   "execution_count": 30,
   "metadata": {
    "collapsed": true
   },
   "outputs": [],
   "source": [
    "def get_category_set(dataset, category_column):\n",
    "    category_list = []\n",
    "    for app in dataset[1:]:\n",
    "        category = app[category_column]\n",
    "        if category not in category_list:\n",
    "            category_list.append(category)\n",
    "    \n",
    "    return category_list"
   ]
  },
  {
   "cell_type": "code",
   "execution_count": 31,
   "metadata": {
    "collapsed": false
   },
   "outputs": [],
   "source": [
    "android_categories = get_category_set(android, and_category_col_num)\n",
    "ios_categories = get_category_set(ios, ios_category_col_num)"
   ]
  },
  {
   "cell_type": "code",
   "execution_count": 32,
   "metadata": {
    "collapsed": true
   },
   "outputs": [],
   "source": [
    "def get_category_installs(category_column_num, review_count_colum_num, dataset):\n",
    "    category_reviews = {}\n",
    "    for app in dataset[1:]:\n",
    "        category = app[category_column_num]\n",
    "        review_count = int(app[review_count_colum_num])\n",
    "        if category in category_reviews:\n",
    "            category_reviews[category] += review_count\n",
    "        else:\n",
    "            category_reviews[category] = review_count\n",
    "    \n",
    "    return Counter(category_reviews)\n",
    "            \n",
    "    "
   ]
  },
  {
   "cell_type": "code",
   "execution_count": 33,
   "metadata": {
    "collapsed": false
   },
   "outputs": [],
   "source": [
    "ios_category_review_count = get_category_installs(ios_category_col_num, ios_review_count_col_num, ios)\n",
    "and_category_review_count = get_category_installs(and_category_col_num, \n",
    "                                                  and_review_count_col_num, android)"
   ]
  },
  {
   "cell_type": "markdown",
   "metadata": {},
   "source": [
    "#### Printing the result\n",
    "\n",
    "Now we will print the top 10 most popular categories by install base.\n",
    "\n",
    "In order to format the data in an understandable way, the length of the category string is taken into account when determining tabs."
   ]
  },
  {
   "cell_type": "code",
   "execution_count": 34,
   "metadata": {
    "collapsed": false
   },
   "outputs": [],
   "source": [
    "def print_category_review_count(store_name, category_review_count):\n",
    "    print('='*3, store_name, '='*3)\n",
    "    for (cat, count) in category_review_count.most_common(10):\n",
    "        if len(cat) > 20:\n",
    "            print(cat, ': ', floor(count))\n",
    "        elif len(cat) > 12:\n",
    "            print(cat, ': \\t', count)\n",
    "        elif len(cat) > 4:\n",
    "            print(cat, ': \\t\\t', count)\n",
    "        else:\n",
    "            print(cat, ': \\t\\t\\t', count)\n",
    "    print()\n",
    "    "
   ]
  },
  {
   "cell_type": "code",
   "execution_count": 35,
   "metadata": {
    "collapsed": false
   },
   "outputs": [
    {
     "name": "stdout",
     "output_type": "stream",
     "text": [
      "=== iOS ===\n",
      "Games : \t\t 40574984\n",
      "Social Networking : \t 4609449\n",
      "Music : \t\t 3783551\n",
      "Entertainment : \t 3563035\n",
      "Photo & Video : \t 2389089\n",
      "Shopping : \t\t 2260151\n",
      "Sports : \t\t 1587614\n",
      "Health & Fitness : \t 1514371\n",
      "Utilities : \t\t 1513363\n",
      "Weather : \t\t 1463837\n",
      "\n",
      "=== Android ===\n",
      "GAME : \t\t\t 587120874\n",
      "COMMUNICATION : \t 285739629\n",
      "TOOLS : \t\t 229299627\n",
      "SOCIAL : \t\t 227936113\n",
      "FAMILY : \t\t 189627665\n",
      "PHOTOGRAPHY : \t\t 105465239\n",
      "VIDEO_PLAYERS : \t 67630663\n",
      "PRODUCTIVITY : \t\t 55418917\n",
      "PERSONALIZATION : \t 53249961\n",
      "SHOPPING : \t\t 44553582\n",
      "\n"
     ]
    }
   ],
   "source": [
    "print_category_review_count('iOS', ios_category_review_count)\n",
    "print_category_review_count('Android', and_category_review_count)"
   ]
  },
  {
   "cell_type": "markdown",
   "metadata": {},
   "source": [
    "### App profile recommendations\n",
    "\n",
    "According to our analysis of both install base and prevelance of each category of apps, games comes out on top every time. This might indicate creating a game for these platforms could be a good choice. It could also indicate the gaming app market is oversaturated, causing our game to be lost in the abundance.\n",
    "\n",
    "Social networking is also pretty popular, but might be more difficult to break into because social media users are set in their ways and the major companies are established and have a loyal user base.\n",
    "\n",
    "A good safe bet appears to be photo & video apps. They are reasonably popular on both platforms, but not to the point that they are too common. "
   ]
  },
  {
   "cell_type": "code",
   "execution_count": null,
   "metadata": {
    "collapsed": true
   },
   "outputs": [],
   "source": []
  }
 ],
 "metadata": {
  "kernelspec": {
   "display_name": "Python 3",
   "language": "python",
   "name": "python3"
  },
  "language_info": {
   "codemirror_mode": {
    "name": "ipython",
    "version": 3
   },
   "file_extension": ".py",
   "mimetype": "text/x-python",
   "name": "python",
   "nbconvert_exporter": "python",
   "pygments_lexer": "ipython3",
   "version": "3.4.3"
  }
 },
 "nbformat": 4,
 "nbformat_minor": 2
}
